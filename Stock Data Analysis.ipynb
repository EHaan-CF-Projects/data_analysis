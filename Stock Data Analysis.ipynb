{
 "cells": [
  {
   "cell_type": "markdown",
   "metadata": {},
   "source": [
    "# Stock Analysis\n",
    "## Evy Haan 3/12/2019\n",
    "### Regression analysis of 5 years of closings for Tableau"
   ]
  },
  {
   "cell_type": "code",
   "execution_count": 1,
   "metadata": {},
   "outputs": [],
   "source": [
    "import numpy as np\n",
    "import numpy.polynomial.polynomial as poly\n",
    "import pandas as pd\n",
    "\n",
    "import matplotlib\n",
    "import matplotlib.pyplot as plt\n",
    "\n",
    "from sklearn.model_selection import train_test_split\n",
    "\n",
    "import datetime as dt\n",
    "import requests"
   ]
  },
  {
   "cell_type": "code",
   "execution_count": 2,
   "metadata": {},
   "outputs": [],
   "source": [
    "%matplotlib inline\n",
    "matplotlib.rcParams['figure.figsize'] = [12.0, 8.0]"
   ]
  },
  {
   "cell_type": "code",
   "execution_count": 3,
   "metadata": {},
   "outputs": [],
   "source": [
    "from pandas.plotting import register_matplotlib_converters\n",
    "register_matplotlib_converters()"
   ]
  },
  {
   "cell_type": "code",
   "execution_count": 4,
   "metadata": {},
   "outputs": [],
   "source": [
    "API_URL = 'https://api.iextrading.com/1.0'\n",
    "STOCK = 'DATA' # Tableau stock symbol"
   ]
  },
  {
   "cell_type": "markdown",
   "metadata": {},
   "source": [
    "## 5 Year Data"
   ]
  },
  {
   "cell_type": "code",
   "execution_count": 5,
   "metadata": {},
   "outputs": [],
   "source": [
    "res5y = requests.get(f'{API_URL}/stock/{STOCK}/chart/5y')\n",
    "data = res5y.json()\n",
    "df5y = pd.DataFrame(data)\n",
    "\n",
    "df5y['date'] = df5y['date'].apply((lambda x: pd.Timestamp(x)))"
   ]
  },
  {
   "cell_type": "code",
   "execution_count": 6,
   "metadata": {},
   "outputs": [
    {
     "data": {
      "text/html": [
       "<div>\n",
       "<style scoped>\n",
       "    .dataframe tbody tr th:only-of-type {\n",
       "        vertical-align: middle;\n",
       "    }\n",
       "\n",
       "    .dataframe tbody tr th {\n",
       "        vertical-align: top;\n",
       "    }\n",
       "\n",
       "    .dataframe thead th {\n",
       "        text-align: right;\n",
       "    }\n",
       "</style>\n",
       "<table border=\"1\" class=\"dataframe\">\n",
       "  <thead>\n",
       "    <tr style=\"text-align: right;\">\n",
       "      <th></th>\n",
       "      <th>change</th>\n",
       "      <th>changeOverTime</th>\n",
       "      <th>changePercent</th>\n",
       "      <th>close</th>\n",
       "      <th>date</th>\n",
       "      <th>high</th>\n",
       "      <th>label</th>\n",
       "      <th>low</th>\n",
       "      <th>open</th>\n",
       "      <th>unadjustedVolume</th>\n",
       "      <th>volume</th>\n",
       "      <th>vwap</th>\n",
       "    </tr>\n",
       "  </thead>\n",
       "  <tbody>\n",
       "    <tr>\n",
       "      <th>0</th>\n",
       "      <td>-0.40</td>\n",
       "      <td>0.000000</td>\n",
       "      <td>-0.439</td>\n",
       "      <td>90.65</td>\n",
       "      <td>2014-03-12</td>\n",
       "      <td>91.85</td>\n",
       "      <td>Mar 12, 14</td>\n",
       "      <td>88.23</td>\n",
       "      <td>90.01</td>\n",
       "      <td>1304555</td>\n",
       "      <td>1304555</td>\n",
       "      <td>90.0669</td>\n",
       "    </tr>\n",
       "    <tr>\n",
       "      <th>1</th>\n",
       "      <td>-1.50</td>\n",
       "      <td>-0.016547</td>\n",
       "      <td>-1.655</td>\n",
       "      <td>89.15</td>\n",
       "      <td>2014-03-13</td>\n",
       "      <td>93.60</td>\n",
       "      <td>Mar 13, 14</td>\n",
       "      <td>88.48</td>\n",
       "      <td>90.57</td>\n",
       "      <td>1075113</td>\n",
       "      <td>1075113</td>\n",
       "      <td>90.4534</td>\n",
       "    </tr>\n",
       "    <tr>\n",
       "      <th>2</th>\n",
       "      <td>1.16</td>\n",
       "      <td>-0.003751</td>\n",
       "      <td>1.301</td>\n",
       "      <td>90.31</td>\n",
       "      <td>2014-03-14</td>\n",
       "      <td>91.23</td>\n",
       "      <td>Mar 14, 14</td>\n",
       "      <td>88.52</td>\n",
       "      <td>88.73</td>\n",
       "      <td>1017146</td>\n",
       "      <td>1017146</td>\n",
       "      <td>89.9897</td>\n",
       "    </tr>\n",
       "    <tr>\n",
       "      <th>3</th>\n",
       "      <td>0.15</td>\n",
       "      <td>-0.002096</td>\n",
       "      <td>0.166</td>\n",
       "      <td>90.46</td>\n",
       "      <td>2014-03-17</td>\n",
       "      <td>92.00</td>\n",
       "      <td>Mar 17, 14</td>\n",
       "      <td>86.70</td>\n",
       "      <td>91.23</td>\n",
       "      <td>1160365</td>\n",
       "      <td>1160365</td>\n",
       "      <td>89.6610</td>\n",
       "    </tr>\n",
       "    <tr>\n",
       "      <th>4</th>\n",
       "      <td>1.58</td>\n",
       "      <td>0.015334</td>\n",
       "      <td>1.747</td>\n",
       "      <td>92.04</td>\n",
       "      <td>2014-03-18</td>\n",
       "      <td>92.97</td>\n",
       "      <td>Mar 18, 14</td>\n",
       "      <td>89.36</td>\n",
       "      <td>91.62</td>\n",
       "      <td>999267</td>\n",
       "      <td>999267</td>\n",
       "      <td>91.4185</td>\n",
       "    </tr>\n",
       "  </tbody>\n",
       "</table>\n",
       "</div>"
      ],
      "text/plain": [
       "   change  changeOverTime  changePercent  close       date   high       label  \\\n",
       "0   -0.40        0.000000         -0.439  90.65 2014-03-12  91.85  Mar 12, 14   \n",
       "1   -1.50       -0.016547         -1.655  89.15 2014-03-13  93.60  Mar 13, 14   \n",
       "2    1.16       -0.003751          1.301  90.31 2014-03-14  91.23  Mar 14, 14   \n",
       "3    0.15       -0.002096          0.166  90.46 2014-03-17  92.00  Mar 17, 14   \n",
       "4    1.58        0.015334          1.747  92.04 2014-03-18  92.97  Mar 18, 14   \n",
       "\n",
       "     low   open  unadjustedVolume   volume     vwap  \n",
       "0  88.23  90.01           1304555  1304555  90.0669  \n",
       "1  88.48  90.57           1075113  1075113  90.4534  \n",
       "2  88.52  88.73           1017146  1017146  89.9897  \n",
       "3  86.70  91.23           1160365  1160365  89.6610  \n",
       "4  89.36  91.62            999267   999267  91.4185  "
      ]
     },
     "execution_count": 6,
     "metadata": {},
     "output_type": "execute_result"
    }
   ],
   "source": [
    "df5y.head(5)"
   ]
  },
  {
   "cell_type": "code",
   "execution_count": 7,
   "metadata": {},
   "outputs": [
    {
     "data": {
      "text/html": [
       "<div>\n",
       "<style scoped>\n",
       "    .dataframe tbody tr th:only-of-type {\n",
       "        vertical-align: middle;\n",
       "    }\n",
       "\n",
       "    .dataframe tbody tr th {\n",
       "        vertical-align: top;\n",
       "    }\n",
       "\n",
       "    .dataframe thead th {\n",
       "        text-align: right;\n",
       "    }\n",
       "</style>\n",
       "<table border=\"1\" class=\"dataframe\">\n",
       "  <thead>\n",
       "    <tr style=\"text-align: right;\">\n",
       "      <th></th>\n",
       "      <th>change</th>\n",
       "      <th>changeOverTime</th>\n",
       "      <th>changePercent</th>\n",
       "      <th>close</th>\n",
       "      <th>high</th>\n",
       "      <th>low</th>\n",
       "      <th>open</th>\n",
       "      <th>unadjustedVolume</th>\n",
       "      <th>volume</th>\n",
       "      <th>vwap</th>\n",
       "    </tr>\n",
       "  </thead>\n",
       "  <tbody>\n",
       "    <tr>\n",
       "      <th>count</th>\n",
       "      <td>1258.000000</td>\n",
       "      <td>1258.000000</td>\n",
       "      <td>1258.000000</td>\n",
       "      <td>1258.000000</td>\n",
       "      <td>1258.000000</td>\n",
       "      <td>1258.000000</td>\n",
       "      <td>1258.000000</td>\n",
       "      <td>1.258000e+03</td>\n",
       "      <td>1.258000e+03</td>\n",
       "      <td>1258.000000</td>\n",
       "    </tr>\n",
       "    <tr>\n",
       "      <th>mean</th>\n",
       "      <td>0.028625</td>\n",
       "      <td>-0.135797</td>\n",
       "      <td>0.077413</td>\n",
       "      <td>78.339984</td>\n",
       "      <td>79.622204</td>\n",
       "      <td>77.001866</td>\n",
       "      <td>78.323695</td>\n",
       "      <td>1.233840e+06</td>\n",
       "      <td>1.233840e+06</td>\n",
       "      <td>78.323083</td>\n",
       "    </tr>\n",
       "    <tr>\n",
       "      <th>std</th>\n",
       "      <td>2.487383</td>\n",
       "      <td>0.263053</td>\n",
       "      <td>3.036052</td>\n",
       "      <td>23.845780</td>\n",
       "      <td>24.227610</td>\n",
       "      <td>23.401702</td>\n",
       "      <td>23.812188</td>\n",
       "      <td>1.134942e+06</td>\n",
       "      <td>1.134942e+06</td>\n",
       "      <td>23.828009</td>\n",
       "    </tr>\n",
       "    <tr>\n",
       "      <th>min</th>\n",
       "      <td>-40.420000</td>\n",
       "      <td>-0.589410</td>\n",
       "      <td>-49.443000</td>\n",
       "      <td>37.220000</td>\n",
       "      <td>40.380000</td>\n",
       "      <td>36.600000</td>\n",
       "      <td>36.600000</td>\n",
       "      <td>1.757710e+05</td>\n",
       "      <td>1.757710e+05</td>\n",
       "      <td>38.190800</td>\n",
       "    </tr>\n",
       "    <tr>\n",
       "      <th>25%</th>\n",
       "      <td>-0.795000</td>\n",
       "      <td>-0.366382</td>\n",
       "      <td>-1.130750</td>\n",
       "      <td>57.437500</td>\n",
       "      <td>58.277500</td>\n",
       "      <td>55.820000</td>\n",
       "      <td>57.452500</td>\n",
       "      <td>6.853770e+05</td>\n",
       "      <td>6.853770e+05</td>\n",
       "      <td>57.073775</td>\n",
       "    </tr>\n",
       "    <tr>\n",
       "      <th>50%</th>\n",
       "      <td>0.085000</td>\n",
       "      <td>-0.152124</td>\n",
       "      <td>0.126500</td>\n",
       "      <td>76.860000</td>\n",
       "      <td>77.935000</td>\n",
       "      <td>75.515000</td>\n",
       "      <td>76.665000</td>\n",
       "      <td>9.671565e+05</td>\n",
       "      <td>9.671565e+05</td>\n",
       "      <td>76.849750</td>\n",
       "    </tr>\n",
       "    <tr>\n",
       "      <th>75%</th>\n",
       "      <td>1.037500</td>\n",
       "      <td>0.060976</td>\n",
       "      <td>1.332500</td>\n",
       "      <td>96.177500</td>\n",
       "      <td>97.875000</td>\n",
       "      <td>94.528500</td>\n",
       "      <td>96.135000</td>\n",
       "      <td>1.402375e+06</td>\n",
       "      <td>1.402375e+06</td>\n",
       "      <td>95.954700</td>\n",
       "    </tr>\n",
       "    <tr>\n",
       "      <th>max</th>\n",
       "      <td>18.050000</td>\n",
       "      <td>0.482515</td>\n",
       "      <td>21.389000</td>\n",
       "      <td>134.390000</td>\n",
       "      <td>134.970000</td>\n",
       "      <td>133.080000</td>\n",
       "      <td>133.950000</td>\n",
       "      <td>2.121852e+07</td>\n",
       "      <td>2.121852e+07</td>\n",
       "      <td>134.194400</td>\n",
       "    </tr>\n",
       "  </tbody>\n",
       "</table>\n",
       "</div>"
      ],
      "text/plain": [
       "            change  changeOverTime  changePercent        close         high  \\\n",
       "count  1258.000000     1258.000000    1258.000000  1258.000000  1258.000000   \n",
       "mean      0.028625       -0.135797       0.077413    78.339984    79.622204   \n",
       "std       2.487383        0.263053       3.036052    23.845780    24.227610   \n",
       "min     -40.420000       -0.589410     -49.443000    37.220000    40.380000   \n",
       "25%      -0.795000       -0.366382      -1.130750    57.437500    58.277500   \n",
       "50%       0.085000       -0.152124       0.126500    76.860000    77.935000   \n",
       "75%       1.037500        0.060976       1.332500    96.177500    97.875000   \n",
       "max      18.050000        0.482515      21.389000   134.390000   134.970000   \n",
       "\n",
       "               low         open  unadjustedVolume        volume         vwap  \n",
       "count  1258.000000  1258.000000      1.258000e+03  1.258000e+03  1258.000000  \n",
       "mean     77.001866    78.323695      1.233840e+06  1.233840e+06    78.323083  \n",
       "std      23.401702    23.812188      1.134942e+06  1.134942e+06    23.828009  \n",
       "min      36.600000    36.600000      1.757710e+05  1.757710e+05    38.190800  \n",
       "25%      55.820000    57.452500      6.853770e+05  6.853770e+05    57.073775  \n",
       "50%      75.515000    76.665000      9.671565e+05  9.671565e+05    76.849750  \n",
       "75%      94.528500    96.135000      1.402375e+06  1.402375e+06    95.954700  \n",
       "max     133.080000   133.950000      2.121852e+07  2.121852e+07   134.194400  "
      ]
     },
     "execution_count": 7,
     "metadata": {},
     "output_type": "execute_result"
    }
   ],
   "source": [
    "df5y.describe()"
   ]
  },
  {
   "cell_type": "code",
   "execution_count": 8,
   "metadata": {},
   "outputs": [
    {
     "name": "stdout",
     "output_type": "stream",
     "text": [
      "<class 'pandas.core.frame.DataFrame'>\n",
      "RangeIndex: 1258 entries, 0 to 1257\n",
      "Data columns (total 12 columns):\n",
      "change              1258 non-null float64\n",
      "changeOverTime      1258 non-null float64\n",
      "changePercent       1258 non-null float64\n",
      "close               1258 non-null float64\n",
      "date                1258 non-null datetime64[ns]\n",
      "high                1258 non-null float64\n",
      "label               1258 non-null object\n",
      "low                 1258 non-null float64\n",
      "open                1258 non-null float64\n",
      "unadjustedVolume    1258 non-null int64\n",
      "volume              1258 non-null int64\n",
      "vwap                1258 non-null float64\n",
      "dtypes: datetime64[ns](1), float64(8), int64(2), object(1)\n",
      "memory usage: 118.0+ KB\n"
     ]
    }
   ],
   "source": [
    "df5y.info()"
   ]
  },
  {
   "cell_type": "code",
   "execution_count": 9,
   "metadata": {},
   "outputs": [],
   "source": [
    "X_train, X_test, Y_train, Y_test = train_test_split(df5y['date'], df5y['close'], test_size = 0.3, random_state=42)"
   ]
  },
  {
   "cell_type": "code",
   "execution_count": 10,
   "metadata": {},
   "outputs": [
    {
     "data": {
      "text/plain": [
       "Text(0.5, 1.0, 'Tableau Stock 5 year closing trend - train data group')"
      ]
     },
     "execution_count": 10,
     "metadata": {},
     "output_type": "execute_result"
    },
    {
     "data": {
      "image/png": "[encoded data removed]",
      "text/plain": [
       "<Figure size 864x576 with 1 Axes>"
      ]
     },
     "metadata": {
      "needs_background": "light"
     },
     "output_type": "display_data"
    }
   ],
   "source": [
    "plt.plot(X_train, Y_train, 'go', markersize=2)\n",
    "plt.title('Tableau Stock 5 year closing trend - train data group')"
   ]
  },
  {
   "cell_type": "code",
   "execution_count": 11,
   "metadata": {},
   "outputs": [
    {
     "data": {
      "text/plain": [
       "Text(0.5, 1.0, 'Tableau Stock 5 year closing trend - test data group')"
      ]
     },
     "execution_count": 11,
     "metadata": {},
     "output_type": "execute_result"
    },
    {
     "data": {
      "image/png": "[encoded data removed]",
      "text/plain": [
       "<Figure size 864x576 with 1 Axes>"
      ]
     },
     "metadata": {
      "needs_background": "light"
     },
     "output_type": "display_data"
    }
   ],
   "source": [
    "plt.plot(X_test, Y_test, 'mo', markersize=2)\n",
    "plt.title('Tableau Stock 5 year closing trend - test data group')"
   ]
  },
  {
   "cell_type": "code",
   "execution_count": 12,
   "metadata": {},
   "outputs": [
    {
     "name": "stderr",
     "output_type": "stream",
     "text": [
      "/home/evyhaan/.local/share/virtualenvs/data_analysis-JK9izll_/lib/python3.7/site-packages/ipykernel_launcher.py:5: RankWarning: The fit may be poorly conditioned\n",
      "  \"\"\"\n"
     ]
    }
   ],
   "source": [
    "X_years = [matplotlib.dates.date2num(x) for x in X_train]\n",
    "\n",
    "coefs_lin = poly.polyfit(X_years, Y_train, 1)\n",
    "coefs_sq = poly.polyfit(X_years, Y_train, 2)\n",
    "coefs_ten = poly.polyfit(X_years, Y_train, 10)"
   ]
  },
  {
   "cell_type": "code",
   "execution_count": 13,
   "metadata": {},
   "outputs": [],
   "source": [
    "X_line = np.linspace(matplotlib.dates.date2num(X_train.min()), matplotlib.dates.date2num(X_train.max()), 100000)"
   ]
  },
  {
   "cell_type": "code",
   "execution_count": 14,
   "metadata": {},
   "outputs": [],
   "source": [
    "ffit_ln = poly.polyval(X_line, coefs_lin)\n",
    "ffit_sq = poly.polyval(X_line, coefs_sq)\n",
    "ffit_ten = poly.polyval(X_line, coefs_ten)"
   ]
  },
  {
   "cell_type": "code",
   "execution_count": 15,
   "metadata": {},
   "outputs": [
    {
     "data": {
      "text/plain": [
       "[<matplotlib.lines.Line2D at 0x7fc1e9b67da0>]"
      ]
     },
     "execution_count": 15,
     "metadata": {},
     "output_type": "execute_result"
    },
    {
     "data": {
      "image/png": "[encoded data removed]",
      "text/plain": [
       "<Figure size 864x576 with 1 Axes>"
      ]
     },
     "metadata": {
      "needs_background": "light"
     },
     "output_type": "display_data"
    }
   ],
   "source": [
    "plt.ylim(min(Y_train - 5), max(Y_train + 5))\n",
    "\n",
    "plt.plot(X_line, ffit_ln, 'c')\n",
    "plt.plot(X_line, ffit_sq, 'm')\n",
    "plt.plot(X_line, ffit_ten, 'y')\n",
    "\n",
    "plt.plot(X_train, Y_train, 'k.', markersize=3)"
   ]
  },
  {
   "cell_type": "markdown",
   "metadata": {},
   "source": [
    "## 2 Year Data"
   ]
  },
  {
   "cell_type": "code",
   "execution_count": 16,
   "metadata": {},
   "outputs": [],
   "source": [
    "res2y = requests.get(f'{API_URL}/stock/{STOCK}/chart/2y')\n",
    "data = res2y.json()\n",
    "df2y = pd.DataFrame(data)\n",
    "\n",
    "df2y['date'] = df2y['date'].apply((lambda x: pd.Timestamp(x)))"
   ]
  },
  {
   "cell_type": "code",
   "execution_count": 17,
   "metadata": {},
   "outputs": [
    {
     "data": {
      "text/html": [
       "<div>\n",
       "<style scoped>\n",
       "    .dataframe tbody tr th:only-of-type {\n",
       "        vertical-align: middle;\n",
       "    }\n",
       "\n",
       "    .dataframe tbody tr th {\n",
       "        vertical-align: top;\n",
       "    }\n",
       "\n",
       "    .dataframe thead th {\n",
       "        text-align: right;\n",
       "    }\n",
       "</style>\n",
       "<table border=\"1\" class=\"dataframe\">\n",
       "  <thead>\n",
       "    <tr style=\"text-align: right;\">\n",
       "      <th></th>\n",
       "      <th>change</th>\n",
       "      <th>changeOverTime</th>\n",
       "      <th>changePercent</th>\n",
       "      <th>close</th>\n",
       "      <th>date</th>\n",
       "      <th>high</th>\n",
       "      <th>label</th>\n",
       "      <th>low</th>\n",
       "      <th>open</th>\n",
       "      <th>unadjustedVolume</th>\n",
       "      <th>volume</th>\n",
       "      <th>vwap</th>\n",
       "    </tr>\n",
       "  </thead>\n",
       "  <tbody>\n",
       "    <tr>\n",
       "      <th>0</th>\n",
       "      <td>0.11</td>\n",
       "      <td>0.000000</td>\n",
       "      <td>0.225</td>\n",
       "      <td>48.94</td>\n",
       "      <td>2017-03-13</td>\n",
       "      <td>49.07</td>\n",
       "      <td>Mar 13, 17</td>\n",
       "      <td>48.43</td>\n",
       "      <td>48.83</td>\n",
       "      <td>1012577</td>\n",
       "      <td>1012577</td>\n",
       "      <td>48.7469</td>\n",
       "    </tr>\n",
       "    <tr>\n",
       "      <th>1</th>\n",
       "      <td>0.15</td>\n",
       "      <td>0.003065</td>\n",
       "      <td>0.306</td>\n",
       "      <td>49.09</td>\n",
       "      <td>2017-03-14</td>\n",
       "      <td>49.17</td>\n",
       "      <td>Mar 14, 17</td>\n",
       "      <td>48.17</td>\n",
       "      <td>48.71</td>\n",
       "      <td>696654</td>\n",
       "      <td>696654</td>\n",
       "      <td>48.7382</td>\n",
       "    </tr>\n",
       "    <tr>\n",
       "      <th>2</th>\n",
       "      <td>0.33</td>\n",
       "      <td>0.009808</td>\n",
       "      <td>0.672</td>\n",
       "      <td>49.42</td>\n",
       "      <td>2017-03-15</td>\n",
       "      <td>49.63</td>\n",
       "      <td>Mar 15, 17</td>\n",
       "      <td>48.72</td>\n",
       "      <td>49.13</td>\n",
       "      <td>1704875</td>\n",
       "      <td>1704875</td>\n",
       "      <td>49.3225</td>\n",
       "    </tr>\n",
       "    <tr>\n",
       "      <th>3</th>\n",
       "      <td>0.04</td>\n",
       "      <td>0.010625</td>\n",
       "      <td>0.081</td>\n",
       "      <td>49.46</td>\n",
       "      <td>2017-03-16</td>\n",
       "      <td>49.87</td>\n",
       "      <td>Mar 16, 17</td>\n",
       "      <td>49.41</td>\n",
       "      <td>49.69</td>\n",
       "      <td>442311</td>\n",
       "      <td>442311</td>\n",
       "      <td>49.5655</td>\n",
       "    </tr>\n",
       "    <tr>\n",
       "      <th>4</th>\n",
       "      <td>-0.36</td>\n",
       "      <td>0.003269</td>\n",
       "      <td>-0.728</td>\n",
       "      <td>49.10</td>\n",
       "      <td>2017-03-17</td>\n",
       "      <td>49.85</td>\n",
       "      <td>Mar 17, 17</td>\n",
       "      <td>48.97</td>\n",
       "      <td>49.82</td>\n",
       "      <td>818013</td>\n",
       "      <td>818013</td>\n",
       "      <td>49.2094</td>\n",
       "    </tr>\n",
       "  </tbody>\n",
       "</table>\n",
       "</div>"
      ],
      "text/plain": [
       "   change  changeOverTime  changePercent  close       date   high       label  \\\n",
       "0    0.11        0.000000          0.225  48.94 2017-03-13  49.07  Mar 13, 17   \n",
       "1    0.15        0.003065          0.306  49.09 2017-03-14  49.17  Mar 14, 17   \n",
       "2    0.33        0.009808          0.672  49.42 2017-03-15  49.63  Mar 15, 17   \n",
       "3    0.04        0.010625          0.081  49.46 2017-03-16  49.87  Mar 16, 17   \n",
       "4   -0.36        0.003269         -0.728  49.10 2017-03-17  49.85  Mar 17, 17   \n",
       "\n",
       "     low   open  unadjustedVolume   volume     vwap  \n",
       "0  48.43  48.83           1012577  1012577  48.7469  \n",
       "1  48.17  48.71            696654   696654  48.7382  \n",
       "2  48.72  49.13           1704875  1704875  49.3225  \n",
       "3  49.41  49.69            442311   442311  49.5655  \n",
       "4  48.97  49.82            818013   818013  49.2094  "
      ]
     },
     "execution_count": 17,
     "metadata": {},
     "output_type": "execute_result"
    }
   ],
   "source": [
    "df2y.head(5)"
   ]
  },
  {
   "cell_type": "code",
   "execution_count": 18,
   "metadata": {},
   "outputs": [
    {
     "data": {
      "text/html": [
       "<div>\n",
       "<style scoped>\n",
       "    .dataframe tbody tr th:only-of-type {\n",
       "        vertical-align: middle;\n",
       "    }\n",
       "\n",
       "    .dataframe tbody tr th {\n",
       "        vertical-align: top;\n",
       "    }\n",
       "\n",
       "    .dataframe thead th {\n",
       "        text-align: right;\n",
       "    }\n",
       "</style>\n",
       "<table border=\"1\" class=\"dataframe\">\n",
       "  <thead>\n",
       "    <tr style=\"text-align: right;\">\n",
       "      <th></th>\n",
       "      <th>change</th>\n",
       "      <th>changeOverTime</th>\n",
       "      <th>changePercent</th>\n",
       "      <th>close</th>\n",
       "      <th>high</th>\n",
       "      <th>low</th>\n",
       "      <th>open</th>\n",
       "      <th>unadjustedVolume</th>\n",
       "      <th>volume</th>\n",
       "      <th>vwap</th>\n",
       "    </tr>\n",
       "  </thead>\n",
       "  <tbody>\n",
       "    <tr>\n",
       "      <th>count</th>\n",
       "      <td>502.000000</td>\n",
       "      <td>502.000000</td>\n",
       "      <td>502.000000</td>\n",
       "      <td>502.000000</td>\n",
       "      <td>502.000000</td>\n",
       "      <td>502.000000</td>\n",
       "      <td>502.000000</td>\n",
       "      <td>5.020000e+02</td>\n",
       "      <td>5.020000e+02</td>\n",
       "      <td>502.000000</td>\n",
       "    </tr>\n",
       "    <tr>\n",
       "      <th>mean</th>\n",
       "      <td>0.155837</td>\n",
       "      <td>0.785730</td>\n",
       "      <td>0.217414</td>\n",
       "      <td>87.393645</td>\n",
       "      <td>88.617784</td>\n",
       "      <td>86.082114</td>\n",
       "      <td>87.306076</td>\n",
       "      <td>9.494662e+05</td>\n",
       "      <td>9.494662e+05</td>\n",
       "      <td>87.389107</td>\n",
       "    </tr>\n",
       "    <tr>\n",
       "      <th>std</th>\n",
       "      <td>2.270059</td>\n",
       "      <td>0.467083</td>\n",
       "      <td>2.320375</td>\n",
       "      <td>22.859019</td>\n",
       "      <td>23.402611</td>\n",
       "      <td>22.250849</td>\n",
       "      <td>22.822755</td>\n",
       "      <td>6.643921e+05</td>\n",
       "      <td>6.643921e+05</td>\n",
       "      <td>22.847325</td>\n",
       "    </tr>\n",
       "    <tr>\n",
       "      <th>min</th>\n",
       "      <td>-11.920000</td>\n",
       "      <td>-0.027380</td>\n",
       "      <td>-10.272000</td>\n",
       "      <td>47.600000</td>\n",
       "      <td>48.110000</td>\n",
       "      <td>47.300000</td>\n",
       "      <td>47.600000</td>\n",
       "      <td>2.042570e+05</td>\n",
       "      <td>2.042570e+05</td>\n",
       "      <td>47.760300</td>\n",
       "    </tr>\n",
       "    <tr>\n",
       "      <th>25%</th>\n",
       "      <td>-0.570000</td>\n",
       "      <td>0.436504</td>\n",
       "      <td>-0.706250</td>\n",
       "      <td>70.302500</td>\n",
       "      <td>70.922500</td>\n",
       "      <td>69.750000</td>\n",
       "      <td>70.285000</td>\n",
       "      <td>5.924085e+05</td>\n",
       "      <td>5.924085e+05</td>\n",
       "      <td>70.341625</td>\n",
       "    </tr>\n",
       "    <tr>\n",
       "      <th>50%</th>\n",
       "      <td>0.165000</td>\n",
       "      <td>0.670924</td>\n",
       "      <td>0.228000</td>\n",
       "      <td>81.775000</td>\n",
       "      <td>83.110000</td>\n",
       "      <td>80.935000</td>\n",
       "      <td>81.915000</td>\n",
       "      <td>7.579970e+05</td>\n",
       "      <td>7.579970e+05</td>\n",
       "      <td>82.158800</td>\n",
       "    </tr>\n",
       "    <tr>\n",
       "      <th>75%</th>\n",
       "      <td>1.040000</td>\n",
       "      <td>1.174755</td>\n",
       "      <td>1.201750</td>\n",
       "      <td>106.432500</td>\n",
       "      <td>108.082500</td>\n",
       "      <td>104.155000</td>\n",
       "      <td>106.387500</td>\n",
       "      <td>1.125032e+06</td>\n",
       "      <td>1.125032e+06</td>\n",
       "      <td>106.324425</td>\n",
       "    </tr>\n",
       "    <tr>\n",
       "      <th>max</th>\n",
       "      <td>16.130000</td>\n",
       "      <td>1.746016</td>\n",
       "      <td>15.358000</td>\n",
       "      <td>134.390000</td>\n",
       "      <td>134.970000</td>\n",
       "      <td>133.080000</td>\n",
       "      <td>133.950000</td>\n",
       "      <td>6.713861e+06</td>\n",
       "      <td>6.713861e+06</td>\n",
       "      <td>134.194400</td>\n",
       "    </tr>\n",
       "  </tbody>\n",
       "</table>\n",
       "</div>"
      ],
      "text/plain": [
       "           change  changeOverTime  changePercent       close        high  \\\n",
       "count  502.000000      502.000000     502.000000  502.000000  502.000000   \n",
       "mean     0.155837        0.785730       0.217414   87.393645   88.617784   \n",
       "std      2.270059        0.467083       2.320375   22.859019   23.402611   \n",
       "min    -11.920000       -0.027380     -10.272000   47.600000   48.110000   \n",
       "25%     -0.570000        0.436504      -0.706250   70.302500   70.922500   \n",
       "50%      0.165000        0.670924       0.228000   81.775000   83.110000   \n",
       "75%      1.040000        1.174755       1.201750  106.432500  108.082500   \n",
       "max     16.130000        1.746016      15.358000  134.390000  134.970000   \n",
       "\n",
       "              low        open  unadjustedVolume        volume        vwap  \n",
       "count  502.000000  502.000000      5.020000e+02  5.020000e+02  502.000000  \n",
       "mean    86.082114   87.306076      9.494662e+05  9.494662e+05   87.389107  \n",
       "std     22.250849   22.822755      6.643921e+05  6.643921e+05   22.847325  \n",
       "min     47.300000   47.600000      2.042570e+05  2.042570e+05   47.760300  \n",
       "25%     69.750000   70.285000      5.924085e+05  5.924085e+05   70.341625  \n",
       "50%     80.935000   81.915000      7.579970e+05  7.579970e+05   82.158800  \n",
       "75%    104.155000  106.387500      1.125032e+06  1.125032e+06  106.324425  \n",
       "max    133.080000  133.950000      6.713861e+06  6.713861e+06  134.194400  "
      ]
     },
     "execution_count": 18,
     "metadata": {},
     "output_type": "execute_result"
    }
   ],
   "source": [
    "df2y.describe()"
   ]
  },
  {
   "cell_type": "code",
   "execution_count": 19,
   "metadata": {},
   "outputs": [
    {
     "name": "stdout",
     "output_type": "stream",
     "text": [
      "<class 'pandas.core.frame.DataFrame'>\n",
      "RangeIndex: 502 entries, 0 to 501\n",
      "Data columns (total 12 columns):\n",
      "change              502 non-null float64\n",
      "changeOverTime      502 non-null float64\n",
      "changePercent       502 non-null float64\n",
      "close               502 non-null float64\n",
      "date                502 non-null datetime64[ns]\n",
      "high                502 non-null float64\n",
      "label               502 non-null object\n",
      "low                 502 non-null float64\n",
      "open                502 non-null float64\n",
      "unadjustedVolume    502 non-null int64\n",
      "volume              502 non-null int64\n",
      "vwap                502 non-null float64\n",
      "dtypes: datetime64[ns](1), float64(8), int64(2), object(1)\n",
      "memory usage: 47.1+ KB\n"
     ]
    }
   ],
   "source": [
    "df2y.info()"
   ]
  },
  {
   "cell_type": "code",
   "execution_count": 20,
   "metadata": {},
   "outputs": [],
   "source": [
    "X_train, X_test, Y_train, Y_test = train_test_split(df2y['date'], df2y['close'], test_size = 0.3, random_state=42)"
   ]
  },
  {
   "cell_type": "code",
   "execution_count": 21,
   "metadata": {},
   "outputs": [
    {
     "data": {
      "text/plain": [
       "Text(0.5, 1.0, 'Tableau Stock 2 year closing trend - train data group')"
      ]
     },
     "execution_count": 21,
     "metadata": {},
     "output_type": "execute_result"
    },
    {
     "data": {
      "image/png": "[encoded data removed]",
      "text/plain": [
       "<Figure size 864x576 with 1 Axes>"
      ]
     },
     "metadata": {
      "needs_background": "light"
     },
     "output_type": "display_data"
    }
   ],
   "source": [
    "plt.plot(X_train, Y_train, 'go', markersize=2)\n",
    "plt.title('Tableau Stock 2 year closing trend - train data group')"
   ]
  },
  {
   "cell_type": "code",
   "execution_count": 22,
   "metadata": {},
   "outputs": [
    {
     "data": {
      "text/plain": [
       "Text(0.5, 1.0, 'Tableau Stock 2 year closing trend - test data group')"
      ]
     },
     "execution_count": 22,
     "metadata": {},
     "output_type": "execute_result"
    },
    {
     "data": {
      "image/png": "[encoded data removed]",
      "text/plain": [
       "<Figure size 864x576 with 1 Axes>"
      ]
     },
     "metadata": {
      "needs_background": "light"
     },
     "output_type": "display_data"
    }
   ],
   "source": [
    "plt.plot(X_test, Y_test, 'mo', markersize=2)\n",
    "plt.title('Tableau Stock 2 year closing trend - test data group')"
   ]
  },
  {
   "cell_type": "code",
   "execution_count": 23,
   "metadata": {},
   "outputs": [
    {
     "name": "stderr",
     "output_type": "stream",
     "text": [
      "/home/evyhaan/.local/share/virtualenvs/data_analysis-JK9izll_/lib/python3.7/site-packages/ipykernel_launcher.py:5: RankWarning: The fit may be poorly conditioned\n",
      "  \"\"\"\n"
     ]
    }
   ],
   "source": [
    "X_years = [matplotlib.dates.date2num(x) for x in X_train]\n",
    "\n",
    "coefs_lin = poly.polyfit(X_years, Y_train, 1)\n",
    "coefs_sq = poly.polyfit(X_years, Y_train, 2)\n",
    "coefs_ten = poly.polyfit(X_years, Y_train, 10)"
   ]
  },
  {
   "cell_type": "code",
   "execution_count": 24,
   "metadata": {},
   "outputs": [],
   "source": [
    "X_line = np.linspace(matplotlib.dates.date2num(X_train.min()), matplotlib.dates.date2num(X_train.max()), 100000)"
   ]
  },
  {
   "cell_type": "code",
   "execution_count": 25,
   "metadata": {},
   "outputs": [],
   "source": [
    "ffit_ln = poly.polyval(X_line, coefs_lin)\n",
    "ffit_sq = poly.polyval(X_line, coefs_sq)\n",
    "ffit_ten = poly.polyval(X_line, coefs_ten)"
   ]
  },
  {
   "cell_type": "code",
   "execution_count": 26,
   "metadata": {},
   "outputs": [
    {
     "data": {
      "text/plain": [
       "[<matplotlib.lines.Line2D at 0x7fc1e9a47fd0>]"
      ]
     },
     "execution_count": 26,
     "metadata": {},
     "output_type": "execute_result"
    },
    {
     "data": {
      "image/png": "[encoded data removed]",
      "text/plain": [
       "<Figure size 864x576 with 1 Axes>"
      ]
     },
     "metadata": {
      "needs_background": "light"
     },
     "output_type": "display_data"
    }
   ],
   "source": [
    "plt.ylim(min(Y_train - 5), max(Y_train + 5))\n",
    "\n",
    "plt.plot(X_line, ffit_ln, 'c')\n",
    "plt.plot(X_line, ffit_sq, 'm')\n",
    "plt.plot(X_line, ffit_ten, 'y')\n",
    "\n",
    "plt.plot(X_train, Y_train, 'k.', markersize=3)"
   ]
  },
  {
   "cell_type": "markdown",
   "metadata": {},
   "source": [
    "#### Conclusions\n",
    "1. The stock is currently at steady increasing trend.\n",
    "2. It is currently at a slightly higher peak than it was before it's last drop.\n",
    "3. I think it the increase will continue for a little while, but begin to level off a bit."
   ]
  },
  {
   "cell_type": "code",
   "execution_count": null,
   "metadata": {},
   "outputs": [],
   "source": []
  }
 ],
 "metadata": {
  "kernelspec": {
   "display_name": "Python 3",
   "language": "python",
   "name": "python3"
  },
  "language_info": {
   "codemirror_mode": {
    "name": "ipython",
    "version": 3
   },
   "file_extension": ".py",
   "mimetype": "text/x-python",
   "name": "python",
   "nbconvert_exporter": "python",
   "pygments_lexer": "ipython3",
   "version": "3.7.1"
  }
 },
 "nbformat": 4,
 "nbformat_minor": 2
}
