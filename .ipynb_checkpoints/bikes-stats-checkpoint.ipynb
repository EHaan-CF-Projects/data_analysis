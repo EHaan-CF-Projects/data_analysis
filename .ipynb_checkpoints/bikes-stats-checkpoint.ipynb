{
 "cells": [
  {
   "cell_type": "markdown",
   "metadata": {},
   "source": [
    "# Bike Stats\n",
    "## Evy Haan 3/11/2019\n",
    "### Bike-share data"
   ]
  },
  {
   "cell_type": "code",
   "execution_count": 1,
   "metadata": {},
   "outputs": [],
   "source": [
    "import numpy as np\n",
    "import pandas as pd"
   ]
  },
  {
   "cell_type": "code",
   "execution_count": 2,
   "metadata": {},
   "outputs": [
    {
     "name": "stderr",
     "output_type": "stream",
     "text": [
      "b'Skipping line 50794: expected 12 fields, saw 20\\n'\n"
     ]
    }
   ],
   "source": [
    "station_df = pd.read_csv('station.csv')\n",
    "weather_df = pd.read_csv('weather.csv')\n",
    "trip_df = pd.read_csv('trip.csv', error_bad_lines=False)"
   ]
  },
  {
   "cell_type": "code",
   "execution_count": 3,
   "metadata": {},
   "outputs": [
    {
     "name": "stdout",
     "output_type": "stream",
     "text": [
      "Average Trip duration: 1178.2956753399776\n"
     ]
    }
   ],
   "source": [
    "avg_trip_duration = trip_df['tripduration'].mean()\n",
    "print('Average Trip duration: ' + str(avg_trip_duration))"
   ]
  },
  {
   "cell_type": "code",
   "execution_count": 4,
   "metadata": {},
   "outputs": [
    {
     "name": "stdout",
     "output_type": "stream",
     "text": [
      "The most common age of a bike-sharer is: 32.0\n"
     ]
    }
   ],
   "source": [
    "most_common_age = 2019 - trip_df['birthyear'].mode()\n",
    "print('The most common age of a bike-sharer is: ' + str(most_common_age[0]))"
   ]
  },
  {
   "cell_type": "code",
   "execution_count": 5,
   "metadata": {},
   "outputs": [
    {
     "name": "stdout",
     "output_type": "stream",
     "text": [
      "Average overall precipitation in inches: 0.10506531204644412\n"
     ]
    }
   ],
   "source": [
    "avg_overall_precipitation = weather_df['Precipitation_In'].mean()\n",
    "print('Average overall precipitation in inches: '+ str(avg_overall_precipitation))"
   ]
  },
  {
   "cell_type": "code",
   "execution_count": 6,
   "metadata": {},
   "outputs": [
    {
     "name": "stdout",
     "output_type": "stream",
     "text": [
      "The average number of bikes at a given bike station is: 16.517241379310345\n"
     ]
    }
   ],
   "source": [
    "curr_avg_num_bikes = station_df['current_dockcount'].mean()\n",
    "print('The average number of bikes at a given bike station is: ' + str(curr_avg_num_bikes))"
   ]
  },
  {
   "cell_type": "code",
   "execution_count": 7,
   "metadata": {},
   "outputs": [
    {
     "name": "stdout",
     "output_type": "stream",
     "text": [
      "A bike station is more likely to gain bikes when modified.\n"
     ]
    }
   ],
   "source": [
    "diff_bike_nums = station_df['install_dockcount'] - station_df['current_dockcount']\n",
    "\n",
    "count_decrease = 0\n",
    "count_increase = 0\n",
    "\n",
    "for val in diff_bike_nums:\n",
    "    if val < 0:\n",
    "        count_decrease += 1\n",
    "    if val > 0:\n",
    "        count_increase += 1\n",
    "\n",
    "if count_increase > count_decrease:\n",
    "    print('A bike station is more likely to gain bikes when modified.')\n",
    "elif count_increase < count_decrease:\n",
    "    print('A bike station is more likely to lose bikes when modified.')"
   ]
  },
  {
   "cell_type": "markdown",
   "metadata": {},
   "source": [
    "### Three Additional Questions\n",
    "- How many days in 2015 had 'Rain' as the only recorded event?\n",
    "- What is the gender breakdown of bike sharers?\n",
    "- What are the most common start locations and destinations?"
   ]
  },
  {
   "cell_type": "code",
   "execution_count": 8,
   "metadata": {},
   "outputs": [
    {
     "name": "stdout",
     "output_type": "stream",
     "text": [
      "149 days of rain were recorded in 2015.\n"
     ]
    }
   ],
   "source": [
    "twenty_fifteen = weather_df[80:445]\n",
    "\n",
    "rain_events = ['Rain', 'Fog-Rain', 'Fog,Rain', 'Rain-Thunderstorm', 'Rain,Thunderstorm']\n",
    "rainy_days = twenty_fifteen[twenty_fifteen.Events.isin(rain_events)]\n",
    "\n",
    "print(str(len(rainy_days)) + ' days of rain were recorded in 2015.')"
   ]
  },
  {
   "cell_type": "code",
   "execution_count": 10,
   "metadata": {},
   "outputs": [
    {
     "name": "stdout",
     "output_type": "stream",
     "text": [
      "Below is the breakdown by gender of bike-sharers: \n"
     ]
    },
    {
     "data": {
      "text/plain": [
       "Male      140564\n",
       "Female     37562\n",
       "Other       3431\n",
       "Name: gender, dtype: int64"
      ]
     },
     "execution_count": 10,
     "metadata": {},
     "output_type": "execute_result"
    }
   ],
   "source": [
    "print('Below is the breakdown by gender of bike-sharers: ')\n",
    "trip_df['gender'].value_counts()"
   ]
  },
  {
   "cell_type": "code",
   "execution_count": 11,
   "metadata": {},
   "outputs": [
    {
     "name": "stdout",
     "output_type": "stream",
     "text": [
      "The most common stations to start from are: \n"
     ]
    },
    {
     "data": {
      "text/plain": [
       "WF-01     13054\n",
       "CH-07     11392\n",
       "BT-01     10934\n",
       "CBD-13    10049\n",
       "SLU-15     9994\n",
       "Name: from_station_id, dtype: int64"
      ]
     },
     "execution_count": 11,
     "metadata": {},
     "output_type": "execute_result"
    }
   ],
   "source": [
    "start_locations = trip_df['from_station_id'].value_counts()\n",
    "print('The most common stations to start from are: ')\n",
    "start_locations.head(5)"
   ]
  },
  {
   "cell_type": "code",
   "execution_count": 13,
   "metadata": {},
   "outputs": [
    {
     "name": "stdout",
     "output_type": "stream",
     "text": [
      "The most common stations to arrive to are:\n"
     ]
    },
    {
     "data": {
      "text/plain": [
       "CBD-13    13784\n",
       "WF-01     13736\n",
       "SLU-15    10961\n",
       "BT-01     10737\n",
       "SLU-07    10632\n",
       "Name: to_station_id, dtype: int64"
      ]
     },
     "execution_count": 13,
     "metadata": {},
     "output_type": "execute_result"
    }
   ],
   "source": [
    "popular_destinations = trip_df['to_station_id'].value_counts()\n",
    "print('The most common stations to arrive to are:')\n",
    "popular_destinations.head(5)"
   ]
  }
 ],
 "metadata": {
  "kernelspec": {
   "display_name": "Python 3",
   "language": "python",
   "name": "python3"
  },
  "language_info": {
   "codemirror_mode": {
    "name": "ipython",
    "version": 3
   },
   "file_extension": ".py",
   "mimetype": "text/x-python",
   "name": "python",
   "nbconvert_exporter": "python",
   "pygments_lexer": "ipython3",
   "version": "3.7.1"
  }
 },
 "nbformat": 4,
 "nbformat_minor": 2
}
